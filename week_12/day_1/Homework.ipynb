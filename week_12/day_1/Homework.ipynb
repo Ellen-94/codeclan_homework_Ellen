{
 "cells": [
  {
   "cell_type": "code",
   "execution_count": 2,
   "id": "4e610cad",
   "metadata": {},
   "outputs": [
    {
     "data": {
      "text/plain": [
       "'/Users/ellenlennestal'"
      ]
     },
     "execution_count": 2,
     "metadata": {},
     "output_type": "execute_result"
    }
   ],
   "source": [
    "pwd"
   ]
  },
  {
   "cell_type": "code",
   "execution_count": 4,
   "id": "f7f1e954",
   "metadata": {},
   "outputs": [
    {
     "name": "stdout",
     "output_type": "stream",
     "text": [
      "/Users/ellenlennestal/Desktop/CodeClan/codeclan_homework_Ellen/week_12/day_1\n"
     ]
    }
   ],
   "source": [
    "cd Desktop/CodeClan/codeclan_homework_Ellen/week_12/day_1/"
   ]
  },
  {
   "cell_type": "code",
   "execution_count": 5,
   "id": "b7e0af6b",
   "metadata": {},
   "outputs": [
    {
     "data": {
      "text/plain": [
       "'/Users/ellenlennestal/Desktop/CodeClan/codeclan_homework_Ellen/week_12/day_1'"
      ]
     },
     "execution_count": 5,
     "metadata": {},
     "output_type": "execute_result"
    }
   ],
   "source": [
    "pwd"
   ]
  },
  {
   "cell_type": "code",
   "execution_count": 11,
   "id": "8570bd67",
   "metadata": {},
   "outputs": [
    {
     "data": {
      "text/plain": [
       "'ham'"
      ]
     },
     "execution_count": 11,
     "metadata": {},
     "output_type": "execute_result"
    }
   ],
   "source": [
    "# question 1\n",
    "\n",
    "shopping = [\"spam\",\"ham\",\"eggs\",\"ham\"]\n",
    "shopping[1]"
   ]
  },
  {
   "cell_type": "code",
   "execution_count": 32,
   "id": "496846d6",
   "metadata": {},
   "outputs": [
    {
     "data": {
      "text/plain": [
       "[]"
      ]
     },
     "execution_count": 32,
     "metadata": {},
     "output_type": "execute_result"
    }
   ],
   "source": [
    "# question 2 \n",
    "stops = [\"Croy\", \"Cumbernauld\", \"Falkirk High\", \"Linlithgow\", \"Livingston\", \"Haymarket\"]\n",
    "\n",
    "stops.append(\"Edinburgh Waverly\")\n",
    "\n",
    "stops\n",
    "\n",
    "stops.insert(0,\"Queen Street\")\n",
    "\n",
    "stops\n",
    "\n",
    "stops.index(\"Croy\")\n",
    "\n",
    "stops.insert(4,\"Polmont\")\n",
    "\n",
    "stops.remove(\"Haymarket\")\n",
    "\n",
    "stops\n",
    "\n",
    "stops.clear()\n",
    "\n",
    "stops"
   ]
  },
  {
   "cell_type": "code",
   "execution_count": 40,
   "id": "ea144ea2",
   "metadata": {},
   "outputs": [
    {
     "data": {
      "text/plain": [
       "{'name': 'Steph', 'age': 31, 'email': 'steph@codeclan.com'}"
      ]
     },
     "execution_count": 40,
     "metadata": {},
     "output_type": "execute_result"
    }
   ],
   "source": [
    "# Question 3 \n",
    "\n",
    "person = {\"name\": \"Steph\", \"age\": 31, \"Instructor\": True}\n",
    "\n",
    "person.keys()\n",
    "person.values()\n",
    "person.items()\n",
    "\n",
    "person[\"name\"]\n",
    "\n",
    "\n",
    "person.update( {'email' : \"steph@codeclan.com\"\n",
    "} )\n",
    "\n",
    "person\n",
    "\n",
    "del(person[\"Instructor\"])\n",
    "\n",
    "\n",
    "person\n"
   ]
  },
  {
   "cell_type": "code",
   "execution_count": 66,
   "id": "e59ab2b8",
   "metadata": {},
   "outputs": [
    {
     "name": "stdout",
     "output_type": "stream",
     "text": [
      "[6, 2, 2, 6]\n",
      "True\n",
      "2\n"
     ]
    }
   ],
   "source": [
    "# question 4 \n",
    "\n",
    "numbers = [1, 6, 2, 2, 7, 1, 6, 13, 99, 7]\n",
    "\n",
    "e_nums = []\n",
    "\n",
    "for n in numbers:\n",
    "    if n%2 == 0:\n",
    "        e_nums.append(n)\n",
    "    \n",
    "print(e_nums)\n",
    "\n",
    "\n",
    "# differnece between largest and smallest value \n",
    "\n",
    "\n",
    "num_sorted = sorted(numbers)\n",
    "\n",
    "diff = num_sorted[-1] - num_sorted[0]\n",
    "\n",
    "diff\n",
    "\n",
    "# print True if the list contains a 2 next to a 2 somewhere.\n",
    "\n",
    "for n in range (len(numbers)-1):\n",
    "    if numbers[n] == 2 and numbers[n+1] == 2:\n",
    "        print(\"True\")\n",
    "\n",
    "\n",
    "# Print the sum of the numbers, BUT ignore any section of numbers starting with a 6 and extending to the next 7. \n",
    " # So [11, 6, 4, 99, 7, 11] would have sum of 22\n",
    "    \n",
    "total_sum = sum([n for n in numbers if n not in [6, 2, 7, 13, 99]])\n",
    "\n"
   ]
  },
  {
   "cell_type": "code",
   "execution_count": 71,
   "id": "2e03371a",
   "metadata": {},
   "outputs": [
    {
     "name": "stdout",
     "output_type": "stream",
     "text": [
      "Woo Python!\n"
     ]
    }
   ],
   "source": [
    "# question 5\n",
    "\n",
    "python_is_fun = True\n",
    "python_is_weird = True\n",
    "\n",
    "if python_is_fun == True or python_is_weird == True:\n",
    "    print(\"Woo Python!\")\n",
    "else:\n",
    "    print(\"Python is not for me!\") "
   ]
  },
  {
   "cell_type": "code",
   "execution_count": 75,
   "id": "0f2e0a87",
   "metadata": {},
   "outputs": [
    {
     "name": "stdout",
     "output_type": "stream",
     "text": [
      "4 eggs collected\n"
     ]
    }
   ],
   "source": [
    "# question 6\n",
    "\n",
    "chickens = [\n",
    "  { \"name\": \"Margaret\", \"age\": 2, \"eggs\": 0 },\n",
    "  { \"name\": \"Hetty\", \"age\": 1, \"eggs\": 2 },\n",
    "  { \"name\": \"Henrietta\", \"age\": 3, \"eggs\": 1 },\n",
    "  { \"name\": \"Audrey\", \"age\": 2, \"eggs\": 0 },\n",
    "  { \"name\": \"Mabel\", \"age\": 5, \"eggs\": 1 },\n",
    "]\n",
    "\n",
    "\n",
    "\n",
    "total_eggs = 0\n",
    "\n",
    "for chicken in chickens:\n",
    "    total_eggs += chicken[\"eggs\"]\n",
    "    chicken[\"eggs\"] = 0 # eggs have been collected\n",
    "\n",
    "print(f\"{total_eggs} eggs collected\")\n",
    "\n",
    "# function \n",
    "\n",
    "def count_eggs(chicken, list):\n",
    "    total_eggs = 0\n",
    "    for chicken in list:\n",
    "        total_eggs += chicken[\"eggs\"]\n",
    "        chicken[\"eggs\"] = 0 \n",
    "    return f\"{total_eggs} eggs collected\"\n",
    "\n",
    "    "
   ]
  },
  {
   "cell_type": "code",
   "execution_count": 76,
   "id": "7db42f70",
   "metadata": {},
   "outputs": [
    {
     "data": {
      "text/plain": [
       "'0 eggs collected'"
      ]
     },
     "execution_count": 76,
     "metadata": {},
     "output_type": "execute_result"
    }
   ],
   "source": [
    "count_eggs(chicken,chickens)"
   ]
  },
  {
   "cell_type": "code",
   "execution_count": null,
   "id": "899929af",
   "metadata": {},
   "outputs": [],
   "source": []
  }
 ],
 "metadata": {
  "kernelspec": {
   "display_name": "Python 3 (ipykernel)",
   "language": "python",
   "name": "python3"
  },
  "language_info": {
   "codemirror_mode": {
    "name": "ipython",
    "version": 3
   },
   "file_extension": ".py",
   "mimetype": "text/x-python",
   "name": "python",
   "nbconvert_exporter": "python",
   "pygments_lexer": "ipython3",
   "version": "3.10.9"
  }
 },
 "nbformat": 4,
 "nbformat_minor": 5
}
